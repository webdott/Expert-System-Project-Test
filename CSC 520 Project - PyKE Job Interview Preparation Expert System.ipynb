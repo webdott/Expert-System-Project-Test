{
 "cells": [
  {
   "attachments": {},
   "cell_type": "markdown",
   "metadata": {},
   "source": [
    "# PyKE Installation and Job Interview Expert System Test\n",
    "- Course: CSC 520\n",
    "- Group: 2\n",
    "- Institution: Obafemi Awolowo University\n",
    "- Course Director: Dr. Ninan\n",
    "- Due date: 25th of May, 2023"
   ]
  },
  {
   "attachments": {},
   "cell_type": "markdown",
   "metadata": {},
   "source": [
    "---\n",
    "## Subtask 1 -  backward chaining expert system:\n",
    "\n",
    "A very simple set of code has been provided as template for how to create your own backward chaining expert system.  Specifically this system recommends possible questions to prepare with depeneding on what role you are applying for (for this project's scope, we have limited it to Software engineering, data science, or nothing). This in the folder 'simple_job_questions'. Follow the instructions below:\n",
    "- Unzip this folder and copy it into your working directory.  \n",
    "- Examine 'job_interview_rules.krb' in a text or python editor.\n",
    "    - Each of the code chunks represent backward chaining rules\n",
    "    - Syntax of a PyKE rule:\n",
    "        - The first line gives a unique rule name\n",
    "        - The next line is the 'THEN' part of the rule, designated by the word 'use'.\n",
    "        - The next third line is the 'IF' part of the rule, designated by the word 'when'.\n",
    "            - Each subsequent line is an 'IF' condition that must be satified for the 'THEN' part of the rule to be satisfied.\n",
    "            \n",
    "- Examine 'job_interview.py' in a text or python editor.\n",
    "    - This code initializes the PyKE engine, and includes a function, 'job_interview_test', to run the expert system.\n",
    "- Edit the path (in the sys.path.append()) to the 'simple_job_questions' folder, to match the folder hierarchy on your computer.\n",
    "- Run the cell below to confirm that it is working. "
   ]
  },
  {
   "cell_type": "code",
   "execution_count": 1,
   "metadata": {},
   "outputs": [
    {
     "name": "stderr",
     "output_type": "stream",
     "text": [
      "writing [compiled_krb]/job_interview_rules_bc.py\n",
      "/Library/Frameworks/Python.framework/Versions/3.8/lib/python3.8/site-packages/pyke/krb_compiler/kqb_parser.py:35: FutureWarning: Possible nested set at position 122\n",
      "  tokenizer = re.compile(r''' [ \\t\\f\\r\\v]* (?: \\#.* )? (?:\n",
      "writing [compiled_krb]/job_interview_questions.qbc\n",
      "writing [compiled_krb]/compiled_pyke_files.py\n"
     ]
    }
   ],
   "source": [
    "#Run this cell\n",
    "import sys\n",
    "# The following command points your notebook to the location of a folder outside your working directory that you want to import.\n",
    "sys.path.append('/Users/webdot_30/Desktop/Projects.nosync/School/Expert_System_Project/simple_job_questions')\n",
    "#sys.path.append('yourpath')\n",
    "import job_interview\n"
   ]
  },
  {
   "attachments": {},
   "cell_type": "markdown",
   "metadata": {},
   "source": [
    "---\n",
    "## Subtask 2 - Learn how to give PyKE the ability to ask questions:\n",
    "- Examine 'job_interview_questions.kqb' in a text or python editor.\n",
    "    - The system has been set up to ask two different questions, returning the answer to the rule base.\n",
    "    - Both are selection 1 questions asked.\n",
    "- Examine 'job_interview_rules.krb' in a text or python editor.\n",
    "    - Each of the code chunks represent backward chaining rules\n",
    "    - The backward chaining rule syntax is the same as above.\n",
    "        - Note that whenever a question is to be asked to satisfy an 'IF' condition, the line begins with the name of the question base and a '.', (i.e. job_interview_questions.)\n",
    "- Edit and run the cell below to confirm that it is working. \n",
    "    - When run you should be prompted to answer questions, and when satisfied the system will respond with a suggestion of 'links'.\n",
    "    - Try running this cell a few times, testing out different inputs to questions.\n",
    "    - You can also copy the code below into individual cells below and run answer the questions separately each time to save all of the results from each trial."
   ]
  },
  {
   "cell_type": "code",
   "execution_count": 7,
   "metadata": {},
   "outputs": [
    {
     "name": "stdout",
     "output_type": "stream",
     "text": [
      "doing proof\n",
      "______________________________________________________________________________\n",
      "______________________________________________________________________________\n",
      "Here are some of the questions you should practice:\n",
      "\n",
      "1. https://leetcode.com/problems/department-top-three-salaries/?envType=study-plan-v2&id=top-sql-50\n",
      "\n",
      "2. https://leetcode.com/problems/second-highest-salary/?envType=study-plan-v2&id=top-sql-50\n",
      "\n",
      "3. https://leetcode.com/problems/investments-in-2016/?envType=study-plan-v2&id=top-sql-50\n",
      "\n",
      "4. https://www.hackerrank.com/challenges/validating-postalcode/problem\n",
      "\n",
      "5. https://www.hackerrank.com/challenges/maximize-it/problem\n",
      "\n",
      "6. https://www.hackerrank.com/challenges/matrix-script/problem\n",
      "\n",
      "7. https://leetcode.com/problems/trips-and-users/\n",
      "\n",
      "8. https://leetcode.com/problems/human-traffic-of-stadium/\n",
      "\n",
      "9. https://leetcode.com/problems/capital-gainloss/\n",
      "\n",
      "10. https://leetcode.com/problems/movie-rating/\n",
      "\n",
      "done\n"
     ]
    }
   ],
   "source": [
    "job_interview.job_interview_test()"
   ]
  }
 ],
 "metadata": {
  "kernelspec": {
   "display_name": "Python 3",
   "language": "python",
   "name": "python3"
  },
  "language_info": {
   "codemirror_mode": {
    "name": "ipython",
    "version": 3
   },
   "file_extension": ".py",
   "mimetype": "text/x-python",
   "name": "python",
   "nbconvert_exporter": "python",
   "pygments_lexer": "ipython3",
   "version": "3.8.7"
  }
 },
 "nbformat": 4,
 "nbformat_minor": 2
}
